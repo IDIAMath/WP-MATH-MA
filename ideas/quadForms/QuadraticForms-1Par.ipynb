{
 "cells": [
  {
   "attachments": {},
   "cell_type": "markdown",
   "metadata": {},
   "source": [
    "# Quadratic Forms"
   ]
  },
  {
   "attachments": {},
   "cell_type": "markdown",
   "metadata": {},
   "source": [
    "\n",
    "This is an example for an interactive question. Given a symmetric matrix\n",
    "$A_0=\\begin{pmatrix}a_{11} & a_{12}\\\\ a_{12} &\n",
    " a_{22}\\end{pmatrix}$.\n",
    "\n",
    " The values of $a_{11},a_{12},a_{22}$ is a random number from $\\{-1, -0.9, \\dots, 1\\}$.\n",
    "The contour plot of $q_{A_0}(x_1,x_2) = (x_1,x_2)\\cdot A \\cdot \\left(\\begin{array}{c}x_1\\\\x_2\\end{array}\\right)$\n",
    "is show (colored).\n",
    "\n",
    " The goal of the student is now, to find the value of $a_{12}$  by comparing the countour plot of the given matrix $A_0$ and \"his/her\" matrix $A$ (copper).\n",
    "\n",
    "\n",
    "\\[ A = \\begin{pmatrix} a_{11} & a_{12}\\\\a_{12} & a_{22} \\end{pmatrix} \\]"
   ]
  },
  {
   "cell_type": "code",
   "execution_count": null,
   "metadata": {},
   "outputs": [],
   "source": []
  },
  {
   "cell_type": "code",
   "execution_count": 1,
   "metadata": {},
   "outputs": [
    {
     "data": {
      "application/vnd.jupyter.widget-view+json": {
       "model_id": "cbc9ff2f831d4751bda106ac73a3ae7e"
      }
     },
     "metadata": {},
     "output_type": "display_data"
    }
   ],
   "source": [
    "x,y = var('x','y')\n",
    "a011=randrange(-10,10)/10.0\n",
    "a012=randrange(-10,10)/10.0\n",
    "a022=randrange(-10,10)/10.0\n",
    "f0 = a011*x*x+2*a012*x*y+a022*y*y\n",
    "C0 = contour_plot(f0, (x,-1,1), (y,-1,1), plot_points=30, contours=15, cmap='jet',figsize=5)\n",
    "renderer3d = 'threejs'\n",
    "@interact\n",
    "def _(a12=slider(-1,1,step_size=0.1,default=0)):\n",
    "      A = matrix(RDF,[[a011,a12],[a12,a022]])\n",
    "      show(\"A=\",A.n(10))\n",
    "      pretty_print(html('Eigenwerte von $A:\\\\, %s$'%(latex(A.eigenvalues()))))\n",
    "      x,y = var('x','y')\n",
    "      f = a011*x*x+2*a12*x*y+a022*y*y\n",
    "      pretty_print(html('$q_A(x,y)=%s'%(latex(f))))\n",
    "      C = contour_plot(f, (x,-1,1), (y,-1,1), plot_points=30, contours=15, cmap='copper',figsize=5)\n",
    "      show(C,C0)\n",
    "      if (abs(a12-a012)==0.0):\n",
    "            print(\"Congrats, you have got it!\")\n",
    "      elif (abs(a12-a012)<=0.1):\n",
    "            print(\"Congrats, you are close!\")\n",
    "#      show(plot3d(f, (x,-1,1), (y,-1,1), figsize=3, adaptive=true,viewer=renderer3d))\n",
    "        "
   ]
  },
  {
   "cell_type": "code",
   "execution_count": null,
   "metadata": {},
   "outputs": [],
   "source": []
  }
 ],
 "metadata": {
  "kernelspec": {
   "display_name": "SageMath 8.1",
   "language": "",
   "name": "sagemath"
  },
  "language_info": {
   "codemirror_mode": {
    "name": "ipython",
    "version": 2
   },
   "file_extension": ".py",
   "mimetype": "text/x-python",
   "name": "python",
   "nbconvert_exporter": "python",
   "pygments_lexer": "ipython2",
   "version": "2.7.17"
  }
 },
 "nbformat": 4,
 "nbformat_minor": 2
}
